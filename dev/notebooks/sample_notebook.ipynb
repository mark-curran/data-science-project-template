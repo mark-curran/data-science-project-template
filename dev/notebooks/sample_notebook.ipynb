{
 "cells": [
  {
   "cell_type": "markdown",
   "id": "684363f2-d905-4a7e-b96e-afc83257aa37",
   "metadata": {},
   "source": [
    "# A Sample Notebook"
   ]
  },
  {
   "cell_type": "code",
   "execution_count": null,
   "id": "577f67f7-ef24-430a-ba74-4482c78de24b",
   "metadata": {},
   "outputs": [],
   "source": [
    "# Use the command `cd` to change the working directory."
   ]
  },
  {
   "cell_type": "code",
   "execution_count": 2,
   "id": "554da2d2-de89-4e70-8e58-7b391a4b52ff",
   "metadata": {},
   "outputs": [
    {
     "name": "stdout",
     "output_type": "stream",
     "text": [
      "Hello, world.\n"
     ]
    }
   ],
   "source": [
    "print(\"Hello, world.\")"
   ]
  }
 ],
 "metadata": {
  "kernelspec": {
   "display_name": "Python 3 (ipykernel)",
   "language": "python",
   "name": "python3"
  },
  "language_info": {
   "codemirror_mode": {
    "name": "ipython",
    "version": 3
   },
   "file_extension": ".py",
   "mimetype": "text/x-python",
   "name": "python",
   "nbconvert_exporter": "python",
   "pygments_lexer": "ipython3",
   "version": "3.9.13"
  }
 },
 "nbformat": 4,
 "nbformat_minor": 5
}
